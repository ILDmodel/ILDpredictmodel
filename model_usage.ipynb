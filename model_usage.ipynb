{
 "cells": [
  {
   "cell_type": "code",
   "execution_count": 1,
   "metadata": {
    "ExecuteTime": {
     "end_time": "2021-11-03T08:44:59.258277Z",
     "start_time": "2021-11-03T08:44:58.188037Z"
    }
   },
   "outputs": [],
   "source": [
    "# read in model\n",
    "import joblib\n",
    "ILD_model=joblib.load(\"ILD_model.pkl\")\n",
    "import easygui\n",
    "#GUI import\n",
    "import pandas as pd\n",
    "from outcomepredict import outcome"
   ]
  },
  {
   "cell_type": "code",
   "execution_count": 2,
   "metadata": {
    "ExecuteTime": {
     "end_time": "2021-11-03T08:44:59.271166Z",
     "start_time": "2021-11-03T08:44:59.261167Z"
    }
   },
   "outputs": [],
   "source": [
    "data_used = pd.read_csv(\"example_data.csv\")"
   ]
  },
  {
   "cell_type": "code",
   "execution_count": 3,
   "metadata": {
    "ExecuteTime": {
     "end_time": "2021-11-03T08:45:12.297969Z",
     "start_time": "2021-11-03T08:44:59.275130Z"
    }
   },
   "outputs": [
    {
     "data": {
      "text/plain": [
       "'OK'"
      ]
     },
     "execution_count": 3,
     "metadata": {},
     "output_type": "execute_result"
    }
   ],
   "source": [
    "information = easygui.enterbox(\"Please input your age,gender,ALB,ESR,D-Dimer,use ',' as seperator\")\n",
    "easygui.msgbox(\"Now predict your ILD outcome\")"
   ]
  },
  {
   "cell_type": "code",
   "execution_count": 5,
   "metadata": {
    "ExecuteTime": {
     "end_time": "2021-11-03T08:45:18.593168Z",
     "start_time": "2021-11-03T08:45:18.575186Z"
    }
   },
   "outputs": [
    {
     "name": "stdout",
     "output_type": "stream",
     "text": [
      "Congratulation, you might not have ILD.\n"
     ]
    }
   ],
   "source": [
    "outcome(ILD_model,information,data_used)"
   ]
  },
  {
   "cell_type": "code",
   "execution_count": null,
   "metadata": {},
   "outputs": [],
   "source": []
  }
 ],
 "metadata": {
  "kernelspec": {
   "display_name": "Python 3",
   "language": "python",
   "name": "python3"
  },
  "language_info": {
   "codemirror_mode": {
    "name": "ipython",
    "version": 3
   },
   "file_extension": ".py",
   "mimetype": "text/x-python",
   "name": "python",
   "nbconvert_exporter": "python",
   "pygments_lexer": "ipython3",
   "version": "3.7.4"
  },
  "toc": {
   "base_numbering": 1,
   "nav_menu": {},
   "number_sections": true,
   "sideBar": true,
   "skip_h1_title": false,
   "title_cell": "Table of Contents",
   "title_sidebar": "Contents",
   "toc_cell": false,
   "toc_position": {},
   "toc_section_display": true,
   "toc_window_display": false
  }
 },
 "nbformat": 4,
 "nbformat_minor": 2
}
